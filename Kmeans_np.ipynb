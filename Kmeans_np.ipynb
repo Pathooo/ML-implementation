{
  "nbformat": 4,
  "nbformat_minor": 0,
  "metadata": {
    "colab": {
      "name": "Kmeans- np.ipynb",
      "provenance": [],
      "collapsed_sections": [],
      "authorship_tag": "ABX9TyNPkNKiacUyj9iCtdY06WAR",
      "include_colab_link": true
    },
    "kernelspec": {
      "name": "python3",
      "display_name": "Python 3"
    },
    "language_info": {
      "name": "python"
    }
  },
  "cells": [
    {
      "cell_type": "markdown",
      "metadata": {
        "id": "view-in-github",
        "colab_type": "text"
      },
      "source": [
        "<a href=\"https://colab.research.google.com/github/Pathooo/ML-implementation/blob/main/Kmeans_np.ipynb\" target=\"_parent\"><img src=\"https://colab.research.google.com/assets/colab-badge.svg\" alt=\"Open In Colab\"/></a>"
      ]
    },
    {
      "cell_type": "code",
      "metadata": {
        "colab": {
          "base_uri": "https://localhost:8080/"
        },
        "id": "sJsOGTsBpDZE",
        "outputId": "082d647a-1aee-4e19-a82e-6885893eef35"
      },
      "source": [
        "%%writefile utils.py\n",
        "\n",
        "def euclid_distance(x1,x2):\n",
        "  d=0\n",
        "  for i in range(len(x1)):\n",
        "    d+=pow((x2[i]-x1[i]),2)\n",
        "    return math.sqrt(d)\n"
      ],
      "execution_count": 1,
      "outputs": [
        {
          "output_type": "stream",
          "name": "stdout",
          "text": [
            "Writing utils.py\n"
          ]
        }
      ]
    },
    {
      "cell_type": "code",
      "metadata": {
        "id": "EmytPCk6oTTA"
      },
      "source": [
        "from utils import euclid_distance\n",
        "import numpy as np\n"
      ],
      "execution_count": 2,
      "outputs": []
    },
    {
      "cell_type": "code",
      "metadata": {
        "id": "AIAueLGNpFgF"
      },
      "source": [
        "class KNN():\n",
        "  #Pass through no of neighbours(k) to consider as param\n",
        "  def __init__(self,k=3):\n",
        "    self.k=k\n",
        "  #Get the most occuring neighbour\n",
        "  def _choose_best(self,neighbours):\n",
        "    #bincount to count max occuring choice , argmax to get the choice\n",
        "    best=np.argmax(np.bincount(neighbours.as_type('int')))\n",
        "    return best\n",
        "\n",
        "  def predict(self,x_train,y_train,x_test):\n",
        "    #to store answers\n",
        "    y_pred=np.zeros(x_test.shape[0])\n",
        "\n",
        "    for i,predict in enumerate(x_test):\n",
        "      #for every test sample compare distance with every train and choose top k\n",
        "      distances=[euclid_distance(x,predict) for x in x_train]\n",
        "      distances=np.argsort(distances)[:self.k]\n",
        "      #get labels of top k\n",
        "      labels=[y_train[x] for x in distances]\n",
        "      #pass list of top k labels to choose best\n",
        "      y_pred[i]=self._choose_best(labels)\n",
        "\n",
        "      return y_pred"
      ],
      "execution_count": 3,
      "outputs": []
    },
    {
      "cell_type": "code",
      "metadata": {
        "id": "e8qh0YOiI0tP"
      },
      "source": [
        ""
      ],
      "execution_count": null,
      "outputs": []
    }
  ]
}